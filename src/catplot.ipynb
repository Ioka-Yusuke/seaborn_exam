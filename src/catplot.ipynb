{
 "cells": [
  {
   "cell_type": "code",
   "execution_count": 1,
   "metadata": {},
   "outputs": [],
   "source": [
    "import pandas as pd\n",
    "import seaborn as sns\n",
    "import matplotlib.pyplot as plt"
   ]
  },
  {
   "cell_type": "code",
   "execution_count": 2,
   "metadata": {},
   "outputs": [
    {
     "data": {
      "text/html": [
       "<div>\n",
       "<style scoped>\n",
       "    .dataframe tbody tr th:only-of-type {\n",
       "        vertical-align: middle;\n",
       "    }\n",
       "\n",
       "    .dataframe tbody tr th {\n",
       "        vertical-align: top;\n",
       "    }\n",
       "\n",
       "    .dataframe thead th {\n",
       "        text-align: right;\n",
       "    }\n",
       "</style>\n",
       "<table border=\"1\" class=\"dataframe\">\n",
       "  <thead>\n",
       "    <tr style=\"text-align: right;\">\n",
       "      <th></th>\n",
       "      <th>rownames</th>\n",
       "      <th>time</th>\n",
       "      <th>value</th>\n",
       "      <th>hue</th>\n",
       "      <th>category</th>\n",
       "    </tr>\n",
       "  </thead>\n",
       "  <tbody>\n",
       "    <tr>\n",
       "      <th>0</th>\n",
       "      <td>1</td>\n",
       "      <td>1871</td>\n",
       "      <td>1120</td>\n",
       "      <td>a</td>\n",
       "      <td>1</td>\n",
       "    </tr>\n",
       "    <tr>\n",
       "      <th>1</th>\n",
       "      <td>2</td>\n",
       "      <td>1872</td>\n",
       "      <td>1160</td>\n",
       "      <td>a</td>\n",
       "      <td>1</td>\n",
       "    </tr>\n",
       "    <tr>\n",
       "      <th>2</th>\n",
       "      <td>3</td>\n",
       "      <td>1873</td>\n",
       "      <td>963</td>\n",
       "      <td>a</td>\n",
       "      <td>1</td>\n",
       "    </tr>\n",
       "    <tr>\n",
       "      <th>3</th>\n",
       "      <td>4</td>\n",
       "      <td>1874</td>\n",
       "      <td>1210</td>\n",
       "      <td>a</td>\n",
       "      <td>1</td>\n",
       "    </tr>\n",
       "    <tr>\n",
       "      <th>4</th>\n",
       "      <td>5</td>\n",
       "      <td>1875</td>\n",
       "      <td>1160</td>\n",
       "      <td>a</td>\n",
       "      <td>1</td>\n",
       "    </tr>\n",
       "  </tbody>\n",
       "</table>\n",
       "</div>"
      ],
      "text/plain": [
       "   rownames  time  value hue  category\n",
       "0         1  1871   1120   a         1\n",
       "1         2  1872   1160   a         1\n",
       "2         3  1873    963   a         1\n",
       "3         4  1874   1210   a         1\n",
       "4         5  1875   1160   a         1"
      ]
     },
     "execution_count": 2,
     "metadata": {},
     "output_type": "execute_result"
    }
   ],
   "source": [
    "df_1 = (\n",
    "        pd.read_csv(\"/workspaces/seaborn_exam/data/input/Nile.csv\")\n",
    "        .assign(hue=lambda x: \"a\")\n",
    "    )\n",
    "\n",
    "df_2 = (\n",
    "        pd.read_csv(\"/workspaces/seaborn_exam/data/input/Nile.csv\")\n",
    "        .assign(\n",
    "            hue=lambda x: \"b\",\n",
    "            value= lambda x: x[\"value\"] + 100\n",
    "        )\n",
    "    )\n",
    "\n",
    "df = (\n",
    "        pd.concat([df_1, df_2])\n",
    "        .assign(\n",
    "            category=lambda x: (x['time'] > 1921).astype(int) + 1\n",
    "        )\n",
    "    )\n",
    "\n",
    "\n",
    "df.head(5)"
   ]
  },
  {
   "cell_type": "code",
   "execution_count": 7,
   "metadata": {},
   "outputs": [
    {
     "data": {
      "text/plain": [
       "Text(-0.18055555555555536, 0.5, 'time')"
      ]
     },
     "execution_count": 7,
     "metadata": {},
     "output_type": "execute_result"
    },
    {
     "data": {
      "image/png": "[encoded data removed]",
      "text/plain": [
       "<Figure size 750x500 with 1 Axes>"
      ]
     },
     "metadata": {},
     "output_type": "display_data"
    }
   ],
   "source": [
    "sns.set_context(\"talk\")\n",
    "sns.catplot(data=df, x=\"category\", y=\"value\", hue=\"hue\",\n",
    "            kind=\"box\", hue_order=[\"a\", \"b\"],\n",
    "            palette=[\"tab:orange\", \"tab:blue\"],\n",
    "            height=5, aspect=1.5, legend=False)\n",
    "# tab:gray\n",
    "plt.ylim(400, 1600)\n",
    "\n",
    "plt.xticks([0, 1], [1, 2])\n",
    "plt.yticks([500, 1000, 1500], [\"500\", \"1000\", \"1500\"])\n",
    "\n",
    "plt.xlabel(\"value\")\n",
    "plt.ylabel(\"time\")"
   ]
  }
 ],
 "metadata": {
  "kernelspec": {
   "display_name": "Python 3 (ipykernel)",
   "language": "python",
   "name": "python3"
  },
  "language_info": {
   "codemirror_mode": {
    "name": "ipython",
    "version": 3
   },
   "file_extension": ".py",
   "mimetype": "text/x-python",
   "name": "python",
   "nbconvert_exporter": "python",
   "pygments_lexer": "ipython3",
   "version": "3.12.5"
  }
 },
 "nbformat": 4,
 "nbformat_minor": 2
}
